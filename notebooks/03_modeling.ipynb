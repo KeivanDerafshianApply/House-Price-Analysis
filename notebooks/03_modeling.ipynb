{
 "cells": [
  {
   "cell_type": "markdown",
   "id": "6acbe420",
   "metadata": {},
   "source": [
    "# 03 — Modeling"
   ]
  },
  {
   "cell_type": "markdown",
   "id": "990572d0",
   "metadata": {},
   "source": [
    "## Goal\n",
    "Build a clean preprocessing pipeline, compare three baselines, and write `submission.csv`."
   ]
  },
  {
   "cell_type": "code",
   "execution_count": null,
   "id": "416b545d",
   "metadata": {},
   "outputs": [],
   "source": [
    "\n",
    "import pandas as pd\n",
    "from src.preprocessing import split_features_target, build_preprocessor, fit_transform, train_valid_split, save_submission\n",
    "from src.modeling import fit_and_select\n",
    "\n",
    "train = pd.read_csv(\"results/train_clean.csv\")\n",
    "test = pd.read_csv(\"results/test_clean.csv\")\n",
    "\n",
    "X, y = split_features_target(train, target=\"SalePrice\")\n",
    "X_test = test.copy()\n",
    "\n",
    "pre, num_cols, cat_cols = build_preprocessor(X)\n",
    "X_proc, X_test_proc, feature_names = fit_transform(pre, X, X_test)\n",
    "\n",
    "X_tr, X_va, y_tr, y_va = train_valid_split(X_proc, y, test_size=0.2, random_state=7)\n",
    "\n",
    "models, report = fit_and_select(X_tr, y_tr, X_va, y_va, random_state=7)\n",
    "report.rmse_by_model, report.best_name\n"
   ]
  },
  {
   "cell_type": "code",
   "execution_count": null,
   "id": "84258911",
   "metadata": {},
   "outputs": [],
   "source": [
    "\n",
    "best_model = models[report.best_name]\n",
    "test_preds = best_model.predict(X_test_proc)\n",
    "test_ids = test[\"Id\"] if \"Id\" in test.columns else pd.Series(range(1, len(test)+1))\n",
    "out_path = save_submission(test_ids, test_preds, \"results/submission.csv\")\n",
    "out_path\n"
   ]
  }
 ],
 "metadata": {},
 "nbformat": 4,
 "nbformat_minor": 5
}
