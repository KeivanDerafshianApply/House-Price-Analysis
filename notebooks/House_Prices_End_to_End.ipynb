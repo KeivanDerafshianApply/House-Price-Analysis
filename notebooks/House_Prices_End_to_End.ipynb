{
 "cells": [
  {
   "cell_type": "markdown",
   "id": "bfb3cade",
   "metadata": {},
   "source": [
    "# House Prices — End-to-End (Readable)"
   ]
  },
  {
   "cell_type": "markdown",
   "id": "16eaf316",
   "metadata": {},
   "source": [
    "## End-to-End (Readable)"
   ]
  },
  {
   "cell_type": "code",
   "execution_count": null,
   "id": "618c0180",
   "metadata": {},
   "outputs": [],
   "source": [
    "\n",
    "import pandas as pd\n",
    "from src.preprocessing import (\n",
    "    load_data, basic_clean, split_features_target,\n",
    "    build_preprocessor, fit_transform, train_valid_split, save_submission\n",
    ")\n",
    "from src.visualization import plot_log_saleprice_hist, plot_scatter\n",
    "from src.modeling import fit_and_select\n",
    "\n",
    "bundle = load_data(\"data\")\n",
    "train, test = basic_clean(bundle.train, bundle.test)\n",
    "\n",
    "# EDA\n",
    "p1 = plot_log_saleprice_hist(train, \"results/hist_log_saleprice.png\")\n",
    "p2 = plot_scatter(train, \"GrLivArea\", \"results/scatter_GrLivArea_SalePrice.png\")\n",
    "p3 = plot_scatter(train, \"OverallQual\", \"results/scatter_OverallQual_SalePrice.png\")\n",
    "[p1, p2, p3]\n"
   ]
  },
  {
   "cell_type": "code",
   "execution_count": null,
   "id": "9aa80f3b",
   "metadata": {},
   "outputs": [],
   "source": [
    "\n",
    "X, y = split_features_target(train, \"SalePrice\")\n",
    "X_test = test.copy()\n",
    "pre, num_cols, cat_cols = build_preprocessor(X)\n",
    "X_proc, X_test_proc, feature_names = fit_transform(pre, X, X_test)\n",
    "\n",
    "X_tr, X_va, y_tr, y_va = train_valid_split(X_proc, y, test_size=0.2, random_state=7)\n",
    "\n",
    "models, report = fit_and_select(X_tr, y_tr, X_va, y_va, random_state=7)\n",
    "print(\"RMSE by model:\", report.rmse_by_model)\n",
    "print(\"Best model:\", report.best_name)\n",
    "\n",
    "preds = models[report.best_name].predict(X_test_proc)\n",
    "ids = test[\"Id\"] if \"Id\" in test.columns else pd.Series(range(1, len(test)+1))\n",
    "save_submission(ids, preds, \"results/submission.csv\")\n",
    "\"results/submission.csv\"\n"
   ]
  }
 ],
 "metadata": {},
 "nbformat": 4,
 "nbformat_minor": 5
}
