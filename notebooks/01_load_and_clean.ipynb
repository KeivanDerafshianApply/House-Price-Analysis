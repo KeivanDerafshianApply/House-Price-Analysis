{
 "cells": [
  {
   "cell_type": "markdown",
   "id": "b31932ee",
   "metadata": {},
   "source": [
    "# 01 — Load & Clean"
   ]
  },
  {
   "cell_type": "markdown",
   "id": "462f87e0",
   "metadata": {},
   "source": [
    "## Goal\n",
    "Load the dataset and apply minimal, explicit cleaning steps."
   ]
  },
  {
   "cell_type": "code",
   "execution_count": null,
   "id": "76e313a7",
   "metadata": {},
   "outputs": [],
   "source": [
    "\n",
    "import pandas as pd\n",
    "from src.preprocessing import load_data, basic_clean, save_csv\n",
    "\n",
    "bundle = load_data(\"data\")\n",
    "train_raw, test_raw = bundle.train, bundle.test\n",
    "print(f\"train shape: {train_raw.shape}, test shape: {test_raw.shape}\")\n",
    "display(train_raw.head())\n"
   ]
  },
  {
   "cell_type": "code",
   "execution_count": null,
   "id": "62e73c18",
   "metadata": {},
   "outputs": [],
   "source": [
    "\n",
    "train_clean, test_clean = basic_clean(train_raw, test_raw)\n",
    "display(train_clean.head())\n",
    "save_csv(train_clean, \"results/train_clean.csv\")\n",
    "save_csv(test_clean, \"results/test_clean.csv\")\n",
    "print(\"Saved cleaned datasets to results/.\")\n"
   ]
  }
 ],
 "metadata": {},
 "nbformat": 4,
 "nbformat_minor": 5
}
