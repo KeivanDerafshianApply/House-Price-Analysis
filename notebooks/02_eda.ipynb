{
 "cells": [
  {
   "cell_type": "markdown",
   "id": "d336b719",
   "metadata": {},
   "source": [
    "# 02 — EDA"
   ]
  },
  {
   "cell_type": "markdown",
   "id": "d509390f",
   "metadata": {},
   "source": [
    "## Goal\n",
    "Answer a few practical questions with simple, interpretable plots."
   ]
  },
  {
   "cell_type": "code",
   "execution_count": null,
   "id": "a4816004",
   "metadata": {},
   "outputs": [],
   "source": [
    "\n",
    "import pandas as pd\n",
    "from src.visualization import plot_log_saleprice_hist, plot_scatter\n",
    "\n",
    "train = pd.read_csv(\"results/train_clean.csv\")\n",
    "p1 = plot_log_saleprice_hist(train, \"results/hist_log_saleprice.png\")\n",
    "p2 = plot_scatter(train, \"GrLivArea\", \"results/scatter_GrLivArea_SalePrice.png\")\n",
    "p3 = plot_scatter(train, \"OverallQual\", \"results/scatter_OverallQual_SalePrice.png\")\n",
    "[p1, p2, p3]\n"
   ]
  }
 ],
 "metadata": {},
 "nbformat": 4,
 "nbformat_minor": 5
}
